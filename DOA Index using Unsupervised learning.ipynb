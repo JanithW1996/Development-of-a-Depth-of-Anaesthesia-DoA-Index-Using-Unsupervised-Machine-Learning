{
 "cells": [
  {
   "cell_type": "markdown",
   "id": "54e9277a",
   "metadata": {},
   "source": [
    "# Load Datasets"
   ]
  },
  {
   "cell_type": "code",
   "execution_count": null,
   "id": "274b2317",
   "metadata": {},
   "outputs": [],
   "source": [
    "# Import necessary libraries\n",
    "import pandas as pd\n",
    "import numpy as np\n",
    "from sklearn.cluster import KMeans\n",
    "from sklearn.metrics import silhouette_score, davies_bouldin_score\n",
    "from scipy.cluster.hierarchy import linkage, dendrogram\n",
    "import matplotlib.pyplot as plt\n",
    "import seaborn as sns"
   ]
  },
  {
   "cell_type": "code",
   "execution_count": null,
   "id": "10915e6e",
   "metadata": {},
   "outputs": [],
   "source": [
    "# Load the datasets\n",
    "file_2_path = 'Project data set 2.xlsx'\n",
    "file_3_path = 'Project data set 3.xlsx'\n",
    "\n",
    "dataset_2 = pd.read_excel(file_2_path)\n",
    "dataset_3 = pd.read_excel(file_3_path)"
   ]
  },
  {
   "cell_type": "markdown",
   "id": "ecbde689",
   "metadata": {},
   "source": [
    "# Preprocessing"
   ]
  },
  {
   "cell_type": "code",
   "execution_count": null,
   "id": "8005b8f3",
   "metadata": {},
   "outputs": [],
   "source": [
    "# Preprocessing: Standardize the features (p1 to p9)\n",
    "# Extract features (p1 to p9) and standardize\n",
    "features = dataset_2[['p1', 'p2', 'p3', 'p4', 'p5', 'p6', 'p7', 'p8', 'p9']]\n",
    "from sklearn.preprocessing import StandardScaler\n",
    "scaler = StandardScaler()\n",
    "features_scaled = scaler.fit_transform(features)"
   ]
  },
  {
   "cell_type": "markdown",
   "id": "1a526741",
   "metadata": {},
   "source": [
    "# Exploratory Analysis"
   ]
  },
  {
   "cell_type": "code",
   "execution_count": null,
   "id": "e10aaf75",
   "metadata": {},
   "outputs": [],
   "source": [
    "#Exploratory Analysis\n",
    "\n",
    "#summary Statistics\n",
    "\n",
    "summary_stats = dataset_2[['p1', 'p2', 'p3', 'p4', 'p5', 'p6', 'p7', 'p8', 'p9']].describe()\n",
    "\n",
    "# Print summary statistics\n",
    "print(summary_stats)"
   ]
  },
  {
   "cell_type": "code",
   "execution_count": null,
   "id": "8d9e4b27",
   "metadata": {},
   "outputs": [],
   "source": [
    "#Correlation Matrix\n",
    "\n",
    "correlation_matrix = dataset_2[['p1', 'p2', 'p3', 'p4', 'p5', 'p6', 'p7', 'p8', 'p9']].corr()\n",
    "\n",
    "# Print the correlation matrix\n",
    "print(correlation_matrix)\n",
    "\n",
    "# Visualize the correlation matrix using a heatmap\n",
    "plt.figure(figsize=(10, 8))\n",
    "sns.heatmap(correlation_matrix, annot=True, cmap='coolwarm', fmt='.2f', linewidths=0.5)\n",
    "plt.title('Correlation Matrix of Features (p1 to p9)')\n",
    "plt.show()"
   ]
  },
  {
   "cell_type": "markdown",
   "id": "f7aef29e",
   "metadata": {},
   "source": [
    "# Advanced Analysis"
   ]
  },
  {
   "cell_type": "code",
   "execution_count": null,
   "id": "0c83778e",
   "metadata": {},
   "outputs": [],
   "source": [
    "# Feature Selection\n",
    "#p2 and p4 are removed from the feature set\n",
    "features = dataset_2[['p1', 'p3', 'p5', 'p6', 'p7', 'p8', 'p9']]\n",
    "from sklearn.preprocessing import StandardScaler\n",
    "scaler = StandardScaler()\n",
    "features_scaled = scaler.fit_transform(features)\n"
   ]
  },
  {
   "cell_type": "code",
   "execution_count": null,
   "id": "1c85fd43",
   "metadata": {},
   "outputs": [],
   "source": [
    "# K-means Clustering\n",
    "\n",
    "# Apply K-means clustering with 2 clusters\n",
    "kmeans = KMeans(n_clusters=2, random_state=42)\n",
    "kmeans_labels = kmeans.fit_predict(features_scaled)\n",
    "\n",
    "# Evaluate K-means clustering using Silhouette Score and Davies-Bouldin Index\n",
    "silhouette_avg_kmeans = silhouette_score(features_scaled, kmeans_labels)\n",
    "davies_bouldin_kmeans = davies_bouldin_score(features_scaled, kmeans_labels)\n",
    "\n",
    "print(f\"K-means Clustering:\")\n",
    "print(f\"Silhouette Score: {silhouette_avg_kmeans:.4f}\")\n",
    "print(f\"Davies-Bouldin Index: {davies_bouldin_kmeans:.4f}\")"
   ]
  },
  {
   "cell_type": "code",
   "execution_count": null,
   "id": "869e20a5",
   "metadata": {},
   "outputs": [],
   "source": [
    "# Compare Clustering Results with True Labels\n",
    "# Merge the K-means labels with the actual labels from Project Data Set 3\n",
    "comparison_df = dataset_2[['Segment ID']].copy()\n",
    "comparison_df['KMeans_Label'] = kmeans_labels\n",
    "comparison_df = comparison_df.merge(dataset_3, on='Segment ID')\n",
    "\n",
    "# Clean up true labels by removing extra spaces\n",
    "comparison_df['label'] = comparison_df['label'].str.strip()\n",
    "\n",
    "# Map the K-means labels to categorical values (\"Awake\" and \"Deep anaesthetic\")\n",
    "label_mapping = {0: 'Awake', 1: 'Deep anaesthetic'}\n",
    "comparison_df['KMeans_Label_Categorized'] = comparison_df['KMeans_Label'].map(label_mapping)\n",
    "\n",
    "# Confusion Matrix for K-means Clustering vs. Actual Labels\n",
    "from sklearn.metrics import confusion_matrix\n",
    "conf_matrix_kmeans = confusion_matrix(comparison_df['label'], comparison_df['KMeans_Label_Categorized'])\n",
    "conf_matrix_df_kmeans = pd.DataFrame(conf_matrix_kmeans, \n",
    "                                      index=['Deep anaesthetic', 'Awake'], \n",
    "                                      columns=['Cluster A', 'Cluster B'])\n",
    "\n",
    "# Plot confusion matrix for K-means\n",
    "plt.figure(figsize=(8, 6))\n",
    "sns.heatmap(conf_matrix_df_kmeans, annot=True, fmt='d', cmap='Blues', linewidths=0.5)\n",
    "plt.title('Confusion Matrix: KMeans Clustering vs Actual Labels')\n",
    "plt.xlabel('Cluster')\n",
    "plt.ylabel('True Label')\n",
    "plt.show()"
   ]
  },
  {
   "cell_type": "code",
   "execution_count": null,
   "id": "bfe7118d",
   "metadata": {},
   "outputs": [],
   "source": [
    "# Hierarchical Clustering\n",
    "# Apply Hierarchical clustering (Ward linkage)\n",
    "Z = linkage(features_scaled, method='ward')\n",
    "\n",
    "# Plot the dendrogram for Hierarchical Clustering\n",
    "plt.figure(figsize=(12, 8))\n",
    "dendrogram(Z, labels=dataset_2['Segment ID'].values, orientation='top', leaf_rotation=90)\n",
    "plt.title('Dendrogram for Hierarchical Clustering')\n",
    "plt.xlabel('Segment ID')\n",
    "plt.ylabel('Distance')\n",
    "plt.show()\n",
    "\n",
    "# Evaluate Hierarchical Clustering\n",
    "# Since Hierarchical clustering does not provide explicit labels, we will use the same number of clusters (2)\n",
    "# Perform clustering with the result from Hierarchical clustering (cut the tree into 2 clusters)\n",
    "from scipy.cluster.hierarchy import fcluster\n",
    "hierarchical_labels = fcluster(Z, 2, criterion='maxclust')\n",
    "\n",
    "# Evaluate Hierarchical clustering using Silhouette Score and Davies-Bouldin Index\n",
    "silhouette_avg_hierarchical = silhouette_score(features_scaled, hierarchical_labels)\n",
    "davies_bouldin_hierarchical = davies_bouldin_score(features_scaled, hierarchical_labels)\n",
    "\n",
    "print(f\"\\nHierarchical Clustering:\")\n",
    "print(f\"Silhouette Score: {silhouette_avg_hierarchical:.4f}\")\n",
    "print(f\"Davies-Bouldin Index: {davies_bouldin_hierarchical:.4f}\")\n",
    "\n"
   ]
  },
  {
   "cell_type": "code",
   "execution_count": null,
   "id": "d6dc39de",
   "metadata": {},
   "outputs": [],
   "source": [
    "# Confusion Matrix for Hierarchical Clustering\n",
    "comparison_df['Hierarchical_Label_Categorized'] = hierarchical_labels\n",
    "# Map the Hierarchical labels to categorical values (\"Awake\" and \"Deep anaesthetic\")\n",
    "comparison_df['Hierarchical_Label_Categorized'] = comparison_df['Hierarchical_Label_Categorized'].map({1: 'Awake', 2: 'Deep anaesthetic'})\n",
    "\n",
    "# Confusion Matrix for Hierarchical Clustering vs. Actual Labels\n",
    "conf_matrix_hierarchical = confusion_matrix(comparison_df['label'], comparison_df['Hierarchical_Label_Categorized'])\n",
    "conf_matrix_df_hierarchical = pd.DataFrame(conf_matrix_hierarchical, \n",
    "                                           index=['Deep anaesthetic', 'Awake'], \n",
    "                                           columns=['Cluster A', 'Cluster B'])\n",
    "\n",
    "# Plot confusion matrix for Hierarchical clustering\n",
    "plt.figure(figsize=(8, 6))\n",
    "sns.heatmap(conf_matrix_df_hierarchical, annot=True, fmt='d', cmap='Blues', linewidths=0.5)\n",
    "plt.title('Confusion Matrix: Hierarchical Clustering vs Actual Labels')\n",
    "plt.xlabel('Cluster')\n",
    "plt.ylabel('True Label')\n",
    "plt.show()"
   ]
  }
 ],
 "metadata": {
  "kernelspec": {
   "display_name": "Python 3 (ipykernel)",
   "language": "python",
   "name": "python3"
  },
  "language_info": {
   "codemirror_mode": {
    "name": "ipython",
    "version": 3
   },
   "file_extension": ".py",
   "mimetype": "text/x-python",
   "name": "python",
   "nbconvert_exporter": "python",
   "pygments_lexer": "ipython3",
   "version": "3.11.5"
  }
 },
 "nbformat": 4,
 "nbformat_minor": 5
}
